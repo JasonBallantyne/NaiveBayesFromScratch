{
 "cells": [
  {
   "cell_type": "code",
   "execution_count": 1,
   "id": "exempt-price",
   "metadata": {},
   "outputs": [],
   "source": [
    "import pandas as pd\n",
    "from pandas import DataFrame\n",
    "import numpy as np\n",
    "import scipy.stats as stats\n",
    "import matplotlib.pyplot as plt\n",
    "from math import pi\n",
    "from sklearn.model_selection import train_test_split\n",
    "from sklearn.preprocessing import MinMaxScaler\n",
    "from sklearn.inspection import permutation_importance\n",
    "import seaborn as sn\n",
    "import matplotlib.pyplot as plt\n",
    "import scipy.stats as ss"
   ]
  },
  {
   "cell_type": "markdown",
   "id": "comfortable-indianapolis",
   "metadata": {},
   "source": [
    "### Prerequisite\n",
    "\n",
    "For this assignment, we will be testing the our model and the GaussianNB model from scikit-learn on three datasets. In order for this notebook to run successfully, the three datasets will need to be saved in the same location as this notebook. The three datasets are as follows:\n",
    "* penguin_af.csv\n",
    "* diabetes.csv\n",
    "* glassV2.csv"
   ]
  },
  {
   "cell_type": "markdown",
   "id": "mexican-rings",
   "metadata": {},
   "source": [
    "### 1. "
   ]
  },
  {
   "cell_type": "markdown",
   "id": "thick-encounter",
   "metadata": {},
   "source": [
    "##### Implementing a class, \"MyMCC\" that implements Gaussian Naive Bayes. \n",
    "It contains the following methods \"fit\", \"predict\", \"score\", \"compute_posterior\", \"prior_probability\", \"statistical_measurements\" & \"conditional_prob_calculation\"."
   ]
  },
  {
   "cell_type": "code",
   "execution_count": 2,
   "id": "hungry-circuit",
   "metadata": {},
   "outputs": [],
   "source": [
    "class MyMCC():\n",
    "    def fit(self, input_var, output_var):\n",
    "        # This function is used for fitting our model\n",
    "    \n",
    "        self.category = np.unique(output_var)\n",
    "        self.length = len(self.category)\n",
    "        self.rows = input_var.shape[0]\n",
    "        self.statistical_measurements(input_var, output_var)\n",
    "        self.prior_probability(input_var, output_var)\n",
    "    \n",
    "    def predict(self, input_var):\n",
    "        # This function predicts the response value based on inputs\n",
    "        \n",
    "        predictions = [self.compute_posterior(w) for w in input_var.to_numpy()]\n",
    "        return predictions\n",
    "    \n",
    "    def score(self, y_test, y_prediction):\n",
    "        # This function returns the accuracy of a given test set\n",
    "        # It mimics the score method that accompanies GaussianNB on scikit-learn\n",
    "        \n",
    "        score = np.sum(y_test == y_prediction) / len(y_test)\n",
    "        return score\n",
    "    \n",
    "    def compute_posterior(self, c):\n",
    "        # This function is used to calculate posterior probabilites.\n",
    "        # This is the probability of an event occurring after taking into consideration new information.\n",
    "        \n",
    "        computation_list = []\n",
    "        \n",
    "        # The for loop below will calculate the posterior probability for each class\n",
    "        for k in range(self.length):\n",
    "            # Using the log to make it more numerically stable\n",
    "            probability = np.log(self.probability[k]) \n",
    "            # Again, we use the log here to make it more numerically stable\n",
    "            cond_prob = np.sum(np.log(self.conditional_prob_calculation(k, c))) \n",
    "            calc_post = probability + cond_prob\n",
    "            computation_list.append(calc_post)\n",
    "            \n",
    "        # Below will return the class with the highest posterior probability\n",
    "        return self.category[np.argmax(computation_list)]\n",
    "    \n",
    "    def prior_probability(self, input_var, output_var):\n",
    "\n",
    "        # This function is used to calculate prior probabilities. \n",
    "        # This is probability of an event before new data is collected\n",
    "        \n",
    "        self.probability = (input_var.groupby(output_var).apply(lambda x: len(x)) / self.rows).to_numpy()\n",
    "\n",
    "        return self.probability\n",
    "    \n",
    "    def statistical_measurements(self, input_var, output_var):\n",
    "        # This function is used to calculate the mean and the variance for every column and converts it to a numpy array\n",
    "        \n",
    "        self.mean = input_var.groupby(output_var).apply(np.mean).to_numpy()\n",
    "        self.variance = input_var.groupby(output_var).apply(np.var).to_numpy()\n",
    "              \n",
    "        return self.mean, self.variance\n",
    "    \n",
    "    def conditional_prob_calculation(self, predictor, values):     \n",
    "        # Calculating the conditional probabilities using the equation given to us in the assignment outline\n",
    "        \n",
    "        mean = self.mean[predictor]\n",
    "        variance = self.variance[predictor]\n",
    "        np.seterr(divide = 'ignore') \n",
    "        \n",
    "        # 1 divided by the sqrt of 2 * pi * variance\n",
    "        first_equation = 1/(np.sqrt(2 * pi * variance))\n",
    "        \n",
    "        # Calculating the denominator\n",
    "        denominator = 2 * variance\n",
    "\n",
    "        # Calculating the numerator\n",
    "        numerator = (values - mean) ** 2\n",
    "        \n",
    "        # Calculating the exponent\n",
    "        exponent = np.exp(-(numerator/denominator))\n",
    "        \n",
    "        # Probability calculation\n",
    "        prob_calc = first_equation * exponent\n",
    "\n",
    "        return prob_calc"
   ]
  },
  {
   "cell_type": "markdown",
   "id": "informal-deviation",
   "metadata": {},
   "source": [
    "### Testing our function using Penguins dataset"
   ]
  },
  {
   "cell_type": "code",
   "execution_count": 3,
   "id": "fatty-wisconsin",
   "metadata": {},
   "outputs": [
    {
     "data": {
      "text/plain": [
       "(333, 9)"
      ]
     },
     "execution_count": 3,
     "metadata": {},
     "output_type": "execute_result"
    }
   ],
   "source": [
    "# Reading in the penguins dataset\n",
    "# Creating a df based off of the dataset\n",
    "penguin_df = pd.read_csv(\"penguins_af.csv\")\n",
    "\n",
    "# Shuffling the dataset with sample\n",
    "penguin_df = penguin_df.sample(frac=1, random_state=1).reset_index(drop=True)\n",
    "\n",
    "# Checking the shape of the df\n",
    "penguin_df.shape"
   ]
  },
  {
   "cell_type": "code",
   "execution_count": 4,
   "id": "center-tamil",
   "metadata": {},
   "outputs": [],
   "source": [
    "# X_penguin for the input data to be predicted on\n",
    "X_penguin = penguin_df[['bill_length_mm', 'bill_depth_mm', 'flipper_length_mm', 'body_mass_g']] \n",
    "# y for the out/goal set\n",
    "y_penguin = penguin_df['species']"
   ]
  },
  {
   "cell_type": "code",
   "execution_count": 5,
   "id": "alert-present",
   "metadata": {},
   "outputs": [
    {
     "name": "stdout",
     "output_type": "stream",
     "text": [
      "Original range is:  333\n",
      "Training range (70%):\t rows 0 to 233\n",
      "Test range (30%): \t rows 233 to 333\n"
     ]
    }
   ],
   "source": [
    "# Split the dataset into two datasets: 70% training and 30% test\n",
    "X_train, X_test, y_train, y_test = train_test_split(X_penguin, y_penguin, test_size=0.3,random_state=20)\n",
    "\n",
    "print(\"Original range is: \", penguin_df.shape[0])\n",
    "print(\"Training range (70%):\\t rows 0 to\", round(X_train.shape[0]))\n",
    "print(\"Test range (30%): \\t rows\", round(X_train.shape[0]), \"to\", round(X_train.shape[0]) + X_test.shape[0])"
   ]
  },
  {
   "cell_type": "code",
   "execution_count": 6,
   "id": "registered-cleaning",
   "metadata": {},
   "outputs": [],
   "source": [
    "# Storing our function in variable for later use\n",
    "MyMCC = MyMCC()"
   ]
  },
  {
   "cell_type": "code",
   "execution_count": 7,
   "id": "hydraulic-stevens",
   "metadata": {},
   "outputs": [
    {
     "data": {
      "text/plain": [
       "0.97"
      ]
     },
     "execution_count": 7,
     "metadata": {},
     "output_type": "execute_result"
    }
   ],
   "source": [
    "# Fitting our model with penguin train data\n",
    "MyMCC.fit(X_train, y_train)\n",
    "\n",
    "# Generating predictions and printing model accuracy\n",
    "penguin_predictions = MyMCC.predict(X_test)\n",
    "penguin_accuracy = MyMCC.score(y_test, penguin_predictions)\n",
    "penguin_accuracy"
   ]
  },
  {
   "cell_type": "code",
   "execution_count": 8,
   "id": "legendary-upper",
   "metadata": {},
   "outputs": [
    {
     "name": "stdout",
     "output_type": "stream",
     "text": [
      "Our model is 97.0% accurate for the penguin dataset.\n"
     ]
    }
   ],
   "source": [
    "print(f\"Our model is {round(penguin_accuracy, 4)* 100}% accurate for the penguin dataset.\")"
   ]
  },
  {
   "cell_type": "markdown",
   "id": "gentle-payroll",
   "metadata": {},
   "source": [
    "### Testing our function using Diabetes dataset"
   ]
  },
  {
   "cell_type": "code",
   "execution_count": 9,
   "id": "aquatic-brother",
   "metadata": {},
   "outputs": [
    {
     "data": {
      "text/plain": [
       "(768, 9)"
      ]
     },
     "execution_count": 9,
     "metadata": {},
     "output_type": "execute_result"
    }
   ],
   "source": [
    "# Reading in the diabetes dataset\n",
    "# Creating a df based off of the dataset\n",
    "diabetes_df = pd.read_csv(\"diabetes.csv\")\n",
    "\n",
    "# shuffle dataset with sample\n",
    "diabetes_df = diabetes_df.sample(frac=1, random_state=1).reset_index(drop=True)\n",
    "\n",
    "# Checking the shape of the df\n",
    "diabetes_df.shape"
   ]
  },
  {
   "cell_type": "code",
   "execution_count": 10,
   "id": "incorporated-artwork",
   "metadata": {},
   "outputs": [],
   "source": [
    "# X_diabetes for the input data to be predicted on\n",
    "X_diabetes = diabetes_df[['preg', 'plas', 'pres', 'skin','insu','mass','pedi','age']]\n",
    "\n",
    "# y_diabetes for the out/goal set\n",
    "y_diabetes = diabetes_df['neg_pos']"
   ]
  },
  {
   "cell_type": "code",
   "execution_count": 11,
   "id": "satisfactory-surprise",
   "metadata": {},
   "outputs": [
    {
     "name": "stdout",
     "output_type": "stream",
     "text": [
      "Original range is:  768\n",
      "Training range (70%):\t rows 0 to 537\n",
      "Test range (30%): \t rows 537 to 768\n"
     ]
    }
   ],
   "source": [
    "# Split the dataset into two datasets: 70% training and 30% test\n",
    "X_train, X_test, y_train, y_test = train_test_split(X_diabetes, y_diabetes, test_size=0.3,random_state=20)\n",
    "\n",
    "print(\"Original range is: \", diabetes_df.shape[0])\n",
    "print(\"Training range (70%):\\t rows 0 to\", round(X_train.shape[0]))\n",
    "print(\"Test range (30%): \\t rows\", round(X_train.shape[0]), \"to\", round(X_train.shape[0]) + X_test.shape[0])"
   ]
  },
  {
   "cell_type": "code",
   "execution_count": 12,
   "id": "regional-learning",
   "metadata": {},
   "outputs": [
    {
     "data": {
      "text/plain": [
       "0.7532467532467533"
      ]
     },
     "execution_count": 12,
     "metadata": {},
     "output_type": "execute_result"
    }
   ],
   "source": [
    "# Fitting our model with diabetes train data\n",
    "MyMCC.fit(X_train, y_train)\n",
    "\n",
    "# Generating predictions and printing model accuracy\n",
    "diabetes_predictions = MyMCC.predict(X_test)\n",
    "diabetes_accuracy = MyMCC.score(y_test, diabetes_predictions)\n",
    "diabetes_accuracy"
   ]
  },
  {
   "cell_type": "code",
   "execution_count": 13,
   "id": "cubic-software",
   "metadata": {},
   "outputs": [
    {
     "name": "stdout",
     "output_type": "stream",
     "text": [
      "Our model is 75.32% accurate for the diabetes dataset.\n"
     ]
    }
   ],
   "source": [
    "print(f\"Our model is {round(diabetes_accuracy, 4)* 100}% accurate for the diabetes dataset.\")"
   ]
  },
  {
   "cell_type": "markdown",
   "id": "demonstrated-newsletter",
   "metadata": {},
   "source": [
    "### Testing our function using Glassv2 dataset"
   ]
  },
  {
   "cell_type": "code",
   "execution_count": 14,
   "id": "north-netherlands",
   "metadata": {},
   "outputs": [
    {
     "data": {
      "text/plain": [
       "(205, 10)"
      ]
     },
     "execution_count": 14,
     "metadata": {},
     "output_type": "execute_result"
    }
   ],
   "source": [
    "# Reading in the GlassV2 dataset\n",
    "# Creating a df based off of the dataset\n",
    "glassV2_df = pd.read_csv(\"glassV2.csv\")\n",
    "\n",
    "# shuffle dataset with sample\n",
    "glassV2_df = glassV2_df.sample(frac=1, random_state=1).reset_index(drop=True)\n",
    "\n",
    "# Checking the shape of the df\n",
    "glassV2_df.shape"
   ]
  },
  {
   "cell_type": "code",
   "execution_count": 15,
   "id": "treated-spending",
   "metadata": {},
   "outputs": [],
   "source": [
    "# X_glass for the input data to be predicted on\n",
    "X_glass = glassV2_df[['RI', 'Na', 'Mg', 'Al','Si','K','Ca','Ba','Fe']]\n",
    "\n",
    "# y_glass for the out/goal set\n",
    "y_glass = glassV2_df['Type']"
   ]
  },
  {
   "cell_type": "code",
   "execution_count": 16,
   "id": "perfect-alabama",
   "metadata": {},
   "outputs": [
    {
     "name": "stdout",
     "output_type": "stream",
     "text": [
      "Original range is:  205\n",
      "Training range (70%):\t rows 0 to 143\n",
      "Test range (30%): \t rows 143 to 205\n"
     ]
    }
   ],
   "source": [
    "# Split the dataset into two datasets: 70% training and 30% test\n",
    "X_train, X_test, y_train, y_test = train_test_split(X_glass, y_glass, test_size=0.3,random_state=20)\n",
    "\n",
    "print(\"Original range is: \", glassV2_df.shape[0])\n",
    "print(\"Training range (70%):\\t rows 0 to\", round(X_train.shape[0]))\n",
    "print(\"Test range (30%): \\t rows\", round(X_train.shape[0]), \"to\", round(X_train.shape[0]) + X_test.shape[0])"
   ]
  },
  {
   "cell_type": "code",
   "execution_count": 17,
   "id": "phantom-proposition",
   "metadata": {},
   "outputs": [
    {
     "data": {
      "text/plain": [
       "0.4032258064516129"
      ]
     },
     "execution_count": 17,
     "metadata": {},
     "output_type": "execute_result"
    }
   ],
   "source": [
    "# Fitting our model with glass train data\n",
    "MyMCC.fit(X_train, y_train)\n",
    "\n",
    "# Generating predictions and printing model accuracy\n",
    "glass_predictions = MyMCC.predict(X_test)\n",
    "glass_accuracy = MyMCC.score(y_test, glass_predictions)\n",
    "glass_accuracy"
   ]
  },
  {
   "cell_type": "code",
   "execution_count": 18,
   "id": "annual-scout",
   "metadata": {},
   "outputs": [
    {
     "name": "stdout",
     "output_type": "stream",
     "text": [
      "Our model is 40.32% accurate for the glass dataset.\n"
     ]
    }
   ],
   "source": [
    "print(f\"Our model is {round(glass_accuracy, 4)* 100}% accurate for the glass dataset.\")"
   ]
  },
  {
   "cell_type": "markdown",
   "id": "multiple-disease",
   "metadata": {},
   "source": [
    "The accuracy of our model is not great for this dataset, we will attempt to improve this accuracy.\n",
    "To do this, we will find out the most important features in the glass dataset and refit our model using only these important features.\n",
    "To find the most important features, we will implement the <b> Permutation feature importance model </b> from sklearn."
   ]
  },
  {
   "cell_type": "markdown",
   "id": "substantial-bennett",
   "metadata": {},
   "source": [
    "##### Implementing Permutation feature importance on the Glass Dataset"
   ]
  },
  {
   "cell_type": "code",
   "execution_count": 19,
   "id": "convertible-tours",
   "metadata": {},
   "outputs": [],
   "source": [
    "# For use in the implementation of permutation feature importance.\n",
    "from sklearn.naive_bayes import GaussianNB"
   ]
  },
  {
   "cell_type": "code",
   "execution_count": 20,
   "id": "alive-quarter",
   "metadata": {},
   "outputs": [],
   "source": [
    "GaussianNB = GaussianNB()"
   ]
  },
  {
   "cell_type": "code",
   "execution_count": 21,
   "id": "formed-ownership",
   "metadata": {},
   "outputs": [
    {
     "name": "stdout",
     "output_type": "stream",
     "text": [
      "1. Ba (0.053659)\n",
      "2. Al (0.048780)\n",
      "3. Na (0.004878)\n",
      "4. K (0.000000)\n",
      "5. Fe (-0.009756)\n",
      "6. Mg (-0.029268)\n",
      "7. Si (-0.029268)\n",
      "8. RI (-0.073171)\n",
      "9. Ca (-0.082927)\n"
     ]
    }
   ],
   "source": [
    "features = ['RI', 'Na', 'Mg', 'Al','Si','K','Ca','Ba','Fe']\n",
    "\n",
    "X_train, X_test, y_train, y_test = train_test_split(X_glass, y_glass, test_size=0.2)\n",
    "\n",
    "GaussianNB.fit(X_train, y_train)\n",
    "\n",
    "imps = permutation_importance(GaussianNB, X_test, y_test)\n",
    "importances = imps.importances_mean\n",
    "std = imps.importances_std\n",
    "indices = np.argsort(importances)[::-1]\n",
    "\n",
    "for f in range(X_test.shape[1]):\n",
    "    print(\"%d. %s (%f)\" % (f + 1, features[indices[f]], importances[indices[f]]))"
   ]
  },
  {
   "cell_type": "markdown",
   "id": "contained-cornwall",
   "metadata": {},
   "source": [
    "##### Implementing Cramer's V, a measure of correlation, based on Pearson’s Chi-Square statistic to further investigate feature importance"
   ]
  },
  {
   "cell_type": "code",
   "execution_count": 22,
   "id": "signal-burden",
   "metadata": {},
   "outputs": [],
   "source": [
    "def cramers_v(x, y):\n",
    "    confusion_matrix = pd.crosstab(x,y)\n",
    "    chi2 = ss.chi2_contingency(confusion_matrix)[0]\n",
    "    n = confusion_matrix.sum().sum()\n",
    "    phi2 = chi2/n\n",
    "    r,k = confusion_matrix.shape\n",
    "    phi2corr = max(0, phi2-((k-1)*(r-1))/(n-1))\n",
    "    rcorr = r-((r-1)**2)/(n-1)\n",
    "    kcorr = k-((k-1)**2)/(n-1)\n",
    "    return np.sqrt(phi2corr/min((kcorr-1),(rcorr-1)))"
   ]
  },
  {
   "cell_type": "code",
   "execution_count": 23,
   "id": "aware-action",
   "metadata": {},
   "outputs": [],
   "source": [
    "trainingSubset = pd.concat([X_train, y_train], axis=1)\n",
    "# Creating a matrix to see the relationship between features using the cramers function above\n",
    "matrix = [[cramers_v(trainingSubset[column], trainingSubset[column2])for column2 in trainingSubset] for column in trainingSubset]"
   ]
  },
  {
   "cell_type": "code",
   "execution_count": 24,
   "id": "statutory-insured",
   "metadata": {},
   "outputs": [],
   "source": [
    "# Selecting the columns of the training set \n",
    "trainingSubsetColumns = trainingSubset.columns\n",
    "\n",
    "# Making a dataframe of the matrix above\n",
    "matrix_correlation = pd.DataFrame(matrix, columns=trainingSubsetColumns, index=trainingSubsetColumns)"
   ]
  },
  {
   "cell_type": "code",
   "execution_count": 25,
   "id": "protected-parks",
   "metadata": {},
   "outputs": [
    {
     "data": {
      "image/png": "[encoded data removed]",
      "text/plain": [
       "<Figure size 1224x576 with 2 Axes>"
      ]
     },
     "metadata": {
      "needs_background": "light"
     },
     "output_type": "display_data"
    }
   ],
   "source": [
    "# Visualising the correlation between features\n",
    "# We will now generate a mask for the upper triangle\n",
    "mask = np.zeros_like(matrix, dtype=np.bool)\n",
    "mask[np.triu_indices_from(mask)] = True\n",
    "\n",
    "plt.figure(figsize = (17,8))\n",
    "sn.heatmap(matrix_correlation, annot=True, mask=mask, vmax = 1)\n",
    "plt.show()"
   ]
  },
  {
   "cell_type": "code",
   "execution_count": 26,
   "id": "contemporary-robin",
   "metadata": {},
   "outputs": [
    {
     "data": {
      "image/png": "[encoded data removed]",
      "text/plain": [
       "<Figure size 1152x432 with 2 Axes>"
      ]
     },
     "metadata": {
      "needs_background": "light"
     },
     "output_type": "display_data"
    }
   ],
   "source": [
    "# Visualising of the correlation between  features\n",
    "trainingSubset = pd.concat([X_train, y_train], axis=1)\n",
    "plt.figure(figsize=(16, 6))\n",
    "# define the mask to set the values in the upper triangle to True\n",
    "mask = np.triu(np.ones_like(trainingSubset.corr(), dtype=np.bool))\n",
    "heatmap = sn.heatmap(trainingSubset.corr(), mask=mask, vmin=-1, vmax=1, annot=True, cmap='BrBG')\n",
    "heatmap.set_title('Correlation between features', fontdict={'fontsize':18}, pad=16);"
   ]
  },
  {
   "cell_type": "markdown",
   "id": "premier-mumbai",
   "metadata": {},
   "source": [
    "### Restesting our function using Glassv2 dataset using specific features"
   ]
  },
  {
   "cell_type": "code",
   "execution_count": 27,
   "id": "based-atlantic",
   "metadata": {},
   "outputs": [],
   "source": [
    "# X_glass for the input data to be predicted on. Using important features as discovered from Permutation feature importance\n",
    "X_glass = glassV2_df[['K', 'Al', 'Fe']]\n",
    "\n",
    "# y_glass for the out/goal set\n",
    "y_glass = glassV2_df['Type']"
   ]
  },
  {
   "cell_type": "code",
   "execution_count": 28,
   "id": "headed-exchange",
   "metadata": {},
   "outputs": [
    {
     "name": "stdout",
     "output_type": "stream",
     "text": [
      "Original range is:  205\n",
      "Training range (70%):\t rows 0 to 143\n",
      "Test range (30%): \t rows 143 to 205\n"
     ]
    }
   ],
   "source": [
    "# Split the dataset into two datasets: 70% training and 30% test\n",
    "X_train, X_test, y_train, y_test = train_test_split(X_glass, y_glass, test_size=0.3,random_state=20)\n",
    "\n",
    "print(\"Original range is: \", glassV2_df.shape[0])\n",
    "print(\"Training range (70%):\\t rows 0 to\", round(X_train.shape[0]))\n",
    "print(\"Test range (30%): \\t rows\", round(X_train.shape[0]), \"to\", round(X_train.shape[0]) + X_test.shape[0])"
   ]
  },
  {
   "cell_type": "code",
   "execution_count": 29,
   "id": "progressive-rendering",
   "metadata": {},
   "outputs": [
    {
     "data": {
      "text/plain": [
       "0.532258064516129"
      ]
     },
     "execution_count": 29,
     "metadata": {},
     "output_type": "execute_result"
    }
   ],
   "source": [
    "# Fitting our model with glass train data\n",
    "MyMCC.fit(X_train, y_train)\n",
    "\n",
    "# Generating predictions and printing model accuracy\n",
    "glass_predictions = MyMCC.predict(X_test)\n",
    "glass_accuracy = MyMCC.score(y_test, glass_predictions)\n",
    "glass_accuracy"
   ]
  },
  {
   "cell_type": "code",
   "execution_count": 30,
   "id": "center-restaurant",
   "metadata": {},
   "outputs": [
    {
     "name": "stdout",
     "output_type": "stream",
     "text": [
      "Using important features, our model is now 53.23% accurate for the glass dataset.\n",
      "This is a much better result than previously attained.\n"
     ]
    }
   ],
   "source": [
    "print(f\"Using important features, our model is now {round(glass_accuracy, 4)* 100}% accurate for the glass dataset.\\nThis is a much better result than previously attained.\")"
   ]
  },
  {
   "cell_type": "markdown",
   "id": "quality-attendance",
   "metadata": {},
   "source": [
    "## 2. Testing the performance of my implementation against the GaussianNB implementation in scikit-learn"
   ]
  },
  {
   "cell_type": "markdown",
   "id": "charged-athens",
   "metadata": {},
   "source": [
    "### Testing GaussianNB implemention in scikit-learn on Penguins dataset"
   ]
  },
  {
   "cell_type": "markdown",
   "id": "external-aurora",
   "metadata": {},
   "source": [
    "We have the penguin dataset's X and y values from the testing of our model, defined as X_penguin and y_penguin.\n",
    "This means we can start from the splitting of the dataset into train and test data. "
   ]
  },
  {
   "cell_type": "code",
   "execution_count": 31,
   "id": "thirty-preparation",
   "metadata": {},
   "outputs": [
    {
     "name": "stdout",
     "output_type": "stream",
     "text": [
      "Original range is:  333\n",
      "Training range (70%):\t rows 0 to 233\n",
      "Test range (30%): \t rows 233 to 333\n"
     ]
    }
   ],
   "source": [
    "# Split the dataset into two datasets: 70% training and 30% test\n",
    "X_train, X_test, y_train, y_test = train_test_split(X_penguin, y_penguin, test_size=0.3,random_state=20)\n",
    "\n",
    "print(\"Original range is: \", penguin_df.shape[0])\n",
    "print(\"Training range (70%):\\t rows 0 to\", round(X_train.shape[0]))\n",
    "print(\"Test range (30%): \\t rows\", round(X_train.shape[0]), \"to\", round(X_train.shape[0]) + X_test.shape[0])"
   ]
  },
  {
   "cell_type": "code",
   "execution_count": 32,
   "id": "associate-description",
   "metadata": {},
   "outputs": [
    {
     "data": {
      "text/plain": [
       "0.97"
      ]
     },
     "execution_count": 32,
     "metadata": {},
     "output_type": "execute_result"
    }
   ],
   "source": [
    "# Fitting GaussianNB with penguin train data\n",
    "GaussianNB.fit(X_train, y_train)\n",
    "\n",
    "# Generating predictions and printing model accuracy\n",
    "penguin_pred = GaussianNB.predict(X_test)\n",
    "penguin_GaussianScore = GaussianNB.score(X_test, y_test)\n",
    "penguin_GaussianScore"
   ]
  },
  {
   "cell_type": "code",
   "execution_count": 33,
   "id": "racial-elder",
   "metadata": {},
   "outputs": [
    {
     "name": "stdout",
     "output_type": "stream",
     "text": [
      "The GaussianNB model is 97.0% accurate for the penguin dataset.\n"
     ]
    }
   ],
   "source": [
    "print(f\"The GaussianNB model is {round(penguin_GaussianScore, 4)* 100}% accurate for the penguin dataset.\")"
   ]
  },
  {
   "cell_type": "markdown",
   "id": "macro-roller",
   "metadata": {},
   "source": [
    "###### Plotting the predictions of my model vs the predictions of the GaussianNB implementation in scikit-learn on the Penguin dataset"
   ]
  },
  {
   "cell_type": "code",
   "execution_count": 34,
   "id": "regional-singles",
   "metadata": {},
   "outputs": [
    {
     "data": {
      "image/png": "[encoded data removed]",
      "text/plain": [
       "<Figure size 1080x504 with 2 Axes>"
      ]
     },
     "metadata": {
      "needs_background": "light"
     },
     "output_type": "display_data"
    }
   ],
   "source": [
    "# Storing our predictions and GaussianNB model predictions in separate dataframes\n",
    "ModelPred_df = pd.DataFrame(data=penguin_predictions, columns=['My Model Predictions'])\n",
    "GaussianNBPred_df = pd.DataFrame(data=penguin_pred, columns=['GaussianNB Predictions'])\n",
    "    \n",
    "fig, ax = plt.subplots(1, 2, sharex='col', sharey='row', figsize=(15,7))\n",
    "        \n",
    "sn.countplot(x='My Model Predictions', data=ModelPred_df, ax=ax[0], palette='pastel', alpha=0.8)\n",
    "sn.countplot(x='GaussianNB Predictions', data=GaussianNBPred_df, ax=ax[1], palette='pastel', alpha=0.8)\n",
    "\n",
    "\n",
    "fig.suptitle('Penguin_af Predictions', fontsize=20)\n",
    "\n",
    "ax[0].tick_params(labelsize=12)\n",
    "ax[1].tick_params(labelsize=12)\n",
    "ax[0].set_title(\"My Model\", fontsize=18)\n",
    "ax[1].set_title(\"GaussianNB\", fontsize=18)\n",
    "ax[0].set(xlabel=None)\n",
    "ax[1].set(xlabel=None)\n",
    "plt.show()"
   ]
  },
  {
   "cell_type": "markdown",
   "id": "smoking-blade",
   "metadata": {},
   "source": [
    "### Testing GaussianNB implemention in scikit-learn on Diabetes dataset"
   ]
  },
  {
   "cell_type": "markdown",
   "id": "rapid-lying",
   "metadata": {},
   "source": [
    "We have the diabetes dataset's X and y values from the testing of our model, defined as X_diabetes and y_diabetes. This means we can start from the splitting of the dataset into train and test data."
   ]
  },
  {
   "cell_type": "code",
   "execution_count": 35,
   "id": "anticipated-terminology",
   "metadata": {},
   "outputs": [
    {
     "name": "stdout",
     "output_type": "stream",
     "text": [
      "Original range is:  768\n",
      "Training range (70%):\t rows 0 to 537\n",
      "Test range (30%): \t rows 537 to 768\n"
     ]
    }
   ],
   "source": [
    "# Split the dataset into two datasets: 70% training and 30% test\n",
    "X_train, X_test, y_train, y_test = train_test_split(X_diabetes, y_diabetes, test_size=0.3,random_state=20)\n",
    "\n",
    "print(\"Original range is: \", diabetes_df.shape[0])\n",
    "print(\"Training range (70%):\\t rows 0 to\", round(X_train.shape[0]))\n",
    "print(\"Test range (30%): \\t rows\", round(X_train.shape[0]), \"to\", round(X_train.shape[0]) + X_test.shape[0])"
   ]
  },
  {
   "cell_type": "code",
   "execution_count": 36,
   "id": "strong-anxiety",
   "metadata": {},
   "outputs": [
    {
     "data": {
      "text/plain": [
       "0.7532467532467533"
      ]
     },
     "execution_count": 36,
     "metadata": {},
     "output_type": "execute_result"
    }
   ],
   "source": [
    "# Fitting GaussianNB with diabetes train data\n",
    "GaussianNB.fit(X_train, y_train)\n",
    "\n",
    "# Generating predictions and printing model accuracy\n",
    "diabetes_pred = GaussianNB.predict(X_test)\n",
    "diabetes_GaussianScore = GaussianNB.score(X_test, y_test)\n",
    "diabetes_GaussianScore"
   ]
  },
  {
   "cell_type": "code",
   "execution_count": 37,
   "id": "civilian-prevention",
   "metadata": {},
   "outputs": [
    {
     "name": "stdout",
     "output_type": "stream",
     "text": [
      "The GaussianNB model is 75.32% accurate for the diabetes dataset.\n"
     ]
    }
   ],
   "source": [
    "print(f\"The GaussianNB model is {round(diabetes_GaussianScore, 4)* 100}% accurate for the diabetes dataset.\")"
   ]
  },
  {
   "cell_type": "markdown",
   "id": "recorded-advisory",
   "metadata": {},
   "source": [
    "###### Plotting the predictions of my model vs the predictions of the GaussianNB implementation in scikit-learn on the Diabetes dataset"
   ]
  },
  {
   "cell_type": "code",
   "execution_count": 38,
   "id": "innocent-bargain",
   "metadata": {},
   "outputs": [
    {
     "data": {
      "image/png": "[encoded data removed]",
      "text/plain": [
       "<Figure size 1080x504 with 2 Axes>"
      ]
     },
     "metadata": {
      "needs_background": "light"
     },
     "output_type": "display_data"
    }
   ],
   "source": [
    "# Storing our predictions and GaussianNB model predictions in separate dataframes\n",
    "ModelPred_df = pd.DataFrame(data=diabetes_predictions, columns=['My Model Predictions'])\n",
    "GaussianNBPred_df = pd.DataFrame(data=diabetes_pred, columns=['GaussianNB Predictions'])\n",
    "    \n",
    "fig, ax = plt.subplots(1, 2, sharex='col', sharey='row', figsize=(15,7))\n",
    "        \n",
    "sn.countplot(x='My Model Predictions', data=ModelPred_df, ax=ax[0], palette='mako', alpha=0.7)\n",
    "sn.countplot(x='GaussianNB Predictions', data=GaussianNBPred_df, ax=ax[1], palette='mako', alpha=0.7)\n",
    "\n",
    "\n",
    "fig.suptitle('Diabetes Predictions', fontsize=20)\n",
    "\n",
    "ax[0].tick_params(labelsize=12)\n",
    "ax[1].tick_params(labelsize=12)\n",
    "ax[0].set_title(\"My Model\", fontsize=18)\n",
    "ax[1].set_title(\"GaussianNB\", fontsize=18)\n",
    "ax[0].set(xlabel=None)\n",
    "ax[1].set(xlabel=None)\n",
    "plt.show()"
   ]
  },
  {
   "cell_type": "markdown",
   "id": "continuous-sight",
   "metadata": {},
   "source": [
    "### Testing GaussianNB implemention in scikit-learn on the GlassV2 dataset"
   ]
  },
  {
   "cell_type": "markdown",
   "id": "psychological-buying",
   "metadata": {},
   "source": [
    "We have the glassV2 dataset's X and y values from the testing of our model, defined as X_glass and y_glass. \n",
    "We will be using the improved X_glass and y_glass values after we have implemented Permutation feature importance and Cramer's V to find our best performing features.\n",
    "We can start from the splitting of the dataset into train and test data."
   ]
  },
  {
   "cell_type": "code",
   "execution_count": 39,
   "id": "adjusted-queue",
   "metadata": {},
   "outputs": [
    {
     "name": "stdout",
     "output_type": "stream",
     "text": [
      "Original range is:  205\n",
      "Training range (70%):\t rows 0 to 143\n",
      "Test range (30%): \t rows 143 to 205\n"
     ]
    }
   ],
   "source": [
    "# Split the dataset into two datasets: 70% training and 30% test\n",
    "X_train, X_test, y_train, y_test = train_test_split(X_glass, y_glass, test_size=0.3,random_state=20)\n",
    "\n",
    "print(\"Original range is: \", glassV2_df.shape[0])\n",
    "print(\"Training range (70%):\\t rows 0 to\", round(X_train.shape[0]))\n",
    "print(\"Test range (30%): \\t rows\", round(X_train.shape[0]), \"to\", round(X_train.shape[0]) + X_test.shape[0])"
   ]
  },
  {
   "cell_type": "code",
   "execution_count": 40,
   "id": "welsh-triple",
   "metadata": {},
   "outputs": [
    {
     "data": {
      "text/plain": [
       "0.532258064516129"
      ]
     },
     "execution_count": 40,
     "metadata": {},
     "output_type": "execute_result"
    }
   ],
   "source": [
    "# Fitting GaussianNB with glassV2 train data\n",
    "GaussianNB.fit(X_train, y_train)\n",
    "\n",
    "# Generating predictions and printing model accuracy\n",
    "glass_pred = GaussianNB.predict(X_test)\n",
    "glass_GaussianScore = GaussianNB.score(X_test, y_test)\n",
    "glass_GaussianScore"
   ]
  },
  {
   "cell_type": "code",
   "execution_count": 41,
   "id": "incoming-communications",
   "metadata": {},
   "outputs": [
    {
     "name": "stdout",
     "output_type": "stream",
     "text": [
      "The GaussianNB model is 53.23% accurate for the glassV2 dataset.\n"
     ]
    }
   ],
   "source": [
    "print(f\"The GaussianNB model is {round(glass_GaussianScore, 4)* 100}% accurate for the glassV2 dataset.\")"
   ]
  },
  {
   "cell_type": "markdown",
   "id": "olympic-flower",
   "metadata": {},
   "source": [
    "###### Plotting the predictions of my model vs the predictions of the GaussianNB implementation in scikit-learn on the GlassV2 dataset"
   ]
  },
  {
   "cell_type": "code",
   "execution_count": 42,
   "id": "becoming-shape",
   "metadata": {},
   "outputs": [
    {
     "data": {
      "image/png": "[encoded data removed]",
      "text/plain": [
       "<Figure size 1080x504 with 2 Axes>"
      ]
     },
     "metadata": {
      "needs_background": "light"
     },
     "output_type": "display_data"
    }
   ],
   "source": [
    "# Storing our predictions and GaussianNB model predictions in separate dataframes\n",
    "ModelPred_df = pd.DataFrame(data=glass_predictions, columns=['Type'])\n",
    "GaussianNBPred_df = pd.DataFrame(data=glass_pred, columns=['Type'])\n",
    "    \n",
    "fig, ax = plt.subplots(1, 2, sharex='col', sharey='row', figsize=(15,7))\n",
    "        \n",
    "sn.countplot(x='Type', data=ModelPred_df, ax=ax[0], palette='rocket', alpha=0.7)\n",
    "sn.countplot(x='Type', data=GaussianNBPred_df, ax=ax[1], palette='rocket', alpha=0.7)\n",
    "\n",
    "\n",
    "fig.suptitle('GlassV2 Predictions', fontsize=20)\n",
    "\n",
    "ax[0].tick_params(labelsize=12)\n",
    "ax[1].tick_params(labelsize=12)\n",
    "ax[0].set_title(\"My Model\", fontsize=18)\n",
    "ax[1].set_title(\"GaussianNB\", fontsize=18)\n",
    "\n",
    "plt.show()"
   ]
  },
  {
   "cell_type": "markdown",
   "id": "dense-future",
   "metadata": {},
   "source": [
    "### Plotting Accuracy between my model and GaussianNB for every dataset"
   ]
  },
  {
   "cell_type": "code",
   "execution_count": 43,
   "id": "entitled-inside",
   "metadata": {},
   "outputs": [],
   "source": [
    "# Generating a list of each Accuracy score for my model and GaussianNB\n",
    "# Converting that list to a percentage and rounding to 2 decimal places for plotting\n",
    "\n",
    "MyMCCAccuracy = [penguin_accuracy, diabetes_accuracy, glass_accuracy]\n",
    "MyMCCAccuracyPercentage = [round(my_num*100, 2) for my_num in MyMCCAccuracy]\n",
    "\n",
    "GaussianNBAccuracy = [penguin_GaussianScore, diabetes_GaussianScore, glass_GaussianScore]\n",
    "GaussianNBAccuracyPercentage = [round(sk_num*100, 2) for sk_num in GaussianNBAccuracy]\n"
   ]
  },
  {
   "cell_type": "code",
   "execution_count": 44,
   "id": "scenic-finish",
   "metadata": {},
   "outputs": [
    {
     "data": {
      "image/png": "[encoded data removed]",
      "text/plain": [
       "<Figure size 1440x504 with 1 Axes>"
      ]
     },
     "metadata": {
      "needs_background": "light"
     },
     "output_type": "display_data"
    }
   ],
   "source": [
    "# Giving the plot the model accuracy data\n",
    "x = np.arange(3)\n",
    "y1 = MyMCCAccuracyPercentage\n",
    "y2 = GaussianNBAccuracyPercentage\n",
    "width = 0.4\n",
    "\n",
    "plt.rcParams[\"figure.figsize\"] = (20,7)\n",
    "plt.rcParams.update({'font.size': 20})\n",
    "\n",
    "# Function to add labels to the grouped barcharts\n",
    "def addlabels(x,y):\n",
    "    for i in range(len(x)):\n",
    "        plt.text(i, y[i]//2,y[i], ha = 'center',\n",
    "                  bbox = dict(facecolor = 'white', alpha = .5))\n",
    "    \n",
    "# Plotting the accuracy in a grouped barchart \n",
    "plt.bar(x-0.2, y1, width)\n",
    "plt.bar(x+0.2, y2, width)\n",
    "\n",
    "plt.xticks(x, ['Penguins_af', 'Diabetes', 'GlassV2'])\n",
    "plt.ylabel(\"Percentage\")\n",
    "plt.legend(['My Model', 'GaussianNB'])\n",
    "addlabels(x, y1)\n",
    "\n",
    "plt.show()"
   ]
  }
 ],
 "metadata": {
  "kernelspec": {
   "display_name": "Python 3",
   "language": "python",
   "name": "python3"
  },
  "language_info": {
   "codemirror_mode": {
    "name": "ipython",
    "version": 3
   },
   "file_extension": ".py",
   "mimetype": "text/x-python",
   "name": "python",
   "nbconvert_exporter": "python",
   "pygments_lexer": "ipython3",
   "version": "3.8.8"
  }
 },
 "nbformat": 4,
 "nbformat_minor": 5
}
